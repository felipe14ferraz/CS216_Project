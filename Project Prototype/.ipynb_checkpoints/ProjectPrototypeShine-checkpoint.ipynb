{
 "cells": [
  {
   "cell_type": "code",
   "execution_count": null,
   "metadata": {},
   "outputs": [],
   "source": []
  },
  {
   "cell_type": "markdown",
   "metadata": {},
   "source": [
    "# Project Prototype "
   ]
  },
  {
   "cell_type": "code",
   "execution_count": 1,
   "metadata": {},
   "outputs": [],
   "source": [
    "import numpy as np\n",
    "import pandas as pd\n",
    "import seaborn as sns\n",
    "Mortality = pd.read_csv(\"Mortality Both Sexes.csv\")\n",
    "MortalityF = pd.read_csv(\"Mortality Female.csv\")\n",
    "MortalityM = pd.read_csv(\"Mortality Male.csv\")\n",
    "Alcohol = pd.read_csv(\"WHOAlcoholTotalPerCapita_2021-09-20v2.csv\")\n"
   ]
  },
  {
   "cell_type": "code",
   "execution_count": null,
   "metadata": {},
   "outputs": [],
   "source": []
  },
  {
   "cell_type": "markdown",
   "metadata": {},
   "source": [
    "### Question 1\n"
   ]
  },
  {
   "cell_type": "code",
   "execution_count": 2,
   "metadata": {},
   "outputs": [
    {
     "data": {
      "text/html": [
       "<div>\n",
       "<style scoped>\n",
       "    .dataframe tbody tr th:only-of-type {\n",
       "        vertical-align: middle;\n",
       "    }\n",
       "\n",
       "    .dataframe tbody tr th {\n",
       "        vertical-align: top;\n",
       "    }\n",
       "\n",
       "    .dataframe thead th {\n",
       "        text-align: right;\n",
       "    }\n",
       "</style>\n",
       "<table border=\"1\" class=\"dataframe\">\n",
       "  <thead>\n",
       "    <tr style=\"text-align: right;\">\n",
       "      <th></th>\n",
       "      <th>Alcohol total per capita (15+) consumption in liters (numeric)</th>\n",
       "      <th>Alcohol total per capita (15+) consumption in liters (low estimation)</th>\n",
       "      <th>Alcohol total per capita (15+) consumption in liters (high estimation)</th>\n",
       "    </tr>\n",
       "    <tr>\n",
       "      <th>Country</th>\n",
       "      <th></th>\n",
       "      <th></th>\n",
       "      <th></th>\n",
       "    </tr>\n",
       "  </thead>\n",
       "  <tbody>\n",
       "    <tr>\n",
       "      <th>Lithuania</th>\n",
       "      <td>15.3340</td>\n",
       "      <td>13.2580</td>\n",
       "      <td>17.4680</td>\n",
       "    </tr>\n",
       "    <tr>\n",
       "      <th>Romania</th>\n",
       "      <td>14.9270</td>\n",
       "      <td>12.7990</td>\n",
       "      <td>17.1345</td>\n",
       "    </tr>\n",
       "    <tr>\n",
       "      <th>Russian Federation</th>\n",
       "      <td>14.6840</td>\n",
       "      <td>12.3780</td>\n",
       "      <td>16.9530</td>\n",
       "    </tr>\n",
       "    <tr>\n",
       "      <th>Czechia</th>\n",
       "      <td>14.4925</td>\n",
       "      <td>12.4325</td>\n",
       "      <td>16.6285</td>\n",
       "    </tr>\n",
       "    <tr>\n",
       "      <th>Uganda</th>\n",
       "      <td>14.2830</td>\n",
       "      <td>11.7575</td>\n",
       "      <td>16.7780</td>\n",
       "    </tr>\n",
       "  </tbody>\n",
       "</table>\n",
       "</div>"
      ],
      "text/plain": [
       "                    Alcohol total per capita (15+) consumption in liters (numeric)  \\\n",
       "Country                                                                              \n",
       "Lithuania                                                     15.3340                \n",
       "Romania                                                       14.9270                \n",
       "Russian Federation                                            14.6840                \n",
       "Czechia                                                       14.4925                \n",
       "Uganda                                                        14.2830                \n",
       "\n",
       "                    Alcohol total per capita (15+) consumption in liters (low estimation)  \\\n",
       "Country                                                                                     \n",
       "Lithuania                                                     13.2580                       \n",
       "Romania                                                       12.7990                       \n",
       "Russian Federation                                            12.3780                       \n",
       "Czechia                                                       12.4325                       \n",
       "Uganda                                                        11.7575                       \n",
       "\n",
       "                    Alcohol total per capita (15+) consumption in liters (high estimation)  \n",
       "Country                                                                                     \n",
       "Lithuania                                                     17.4680                       \n",
       "Romania                                                       17.1345                       \n",
       "Russian Federation                                            16.9530                       \n",
       "Czechia                                                       16.6285                       \n",
       "Uganda                                                        16.7780                       "
      ]
     },
     "execution_count": 2,
     "metadata": {},
     "output_type": "execute_result"
    }
   ],
   "source": [
    "# What are the top 5 countries with the highest alcohol consumption? \n",
    "AlcoholBoth = Alcohol[Alcohol['Sex'] == \"Both sexes\"]\n",
    "AlcoholOverall = AlcoholBoth.groupby('Country').mean()\n",
    "AlcoholOverall = AlcoholOverall.drop(columns = ['Year'])\n",
    "\n",
    "mostAlc = AlcoholOverall.sort_values(by = \"Alcohol total per capita (15+) consumption in liters (numeric)\", ascending = False)\n",
    "top5Alc = mostAlc.head()\n",
    "top5Alc"
   ]
  },
  {
   "cell_type": "markdown",
   "metadata": {},
   "source": [
    "The top 5 countries with the highest alcohol consumption are Lithuania, Romania, Russia, Czechia, and Uganda"
   ]
  },
  {
   "cell_type": "code",
   "execution_count": 3,
   "metadata": {},
   "outputs": [
    {
     "data": {
      "text/html": [
       "<div>\n",
       "<style scoped>\n",
       "    .dataframe tbody tr th:only-of-type {\n",
       "        vertical-align: middle;\n",
       "    }\n",
       "\n",
       "    .dataframe tbody tr th {\n",
       "        vertical-align: top;\n",
       "    }\n",
       "\n",
       "    .dataframe thead th {\n",
       "        text-align: right;\n",
       "    }\n",
       "</style>\n",
       "<table border=\"1\" class=\"dataframe\">\n",
       "  <thead>\n",
       "    <tr style=\"text-align: right;\">\n",
       "      <th></th>\n",
       "      <th>Adult mortality rate</th>\n",
       "    </tr>\n",
       "    <tr>\n",
       "      <th>Location</th>\n",
       "      <th></th>\n",
       "    </tr>\n",
       "  </thead>\n",
       "  <tbody>\n",
       "    <tr>\n",
       "      <th>Zimbabwe</th>\n",
       "      <td>549.347059</td>\n",
       "    </tr>\n",
       "    <tr>\n",
       "      <th>Lesotho</th>\n",
       "      <td>536.264706</td>\n",
       "    </tr>\n",
       "    <tr>\n",
       "      <th>Eswatini</th>\n",
       "      <td>528.958824</td>\n",
       "    </tr>\n",
       "    <tr>\n",
       "      <th>Central African Republic</th>\n",
       "      <td>491.682353</td>\n",
       "    </tr>\n",
       "    <tr>\n",
       "      <th>Sierra Leone</th>\n",
       "      <td>452.135294</td>\n",
       "    </tr>\n",
       "  </tbody>\n",
       "</table>\n",
       "</div>"
      ],
      "text/plain": [
       "                          Adult mortality rate\n",
       "Location                                      \n",
       "Zimbabwe                            549.347059\n",
       "Lesotho                             536.264706\n",
       "Eswatini                            528.958824\n",
       "Central African Republic            491.682353\n",
       "Sierra Leone                        452.135294"
      ]
     },
     "execution_count": 3,
     "metadata": {},
     "output_type": "execute_result"
    }
   ],
   "source": [
    "# What are the top 5 countries with the highest mortality rates?\n",
    "MortalityOverall = Mortality.groupby('Location').mean()\n",
    "MortalityOverall = MortalityOverall.drop(columns = ['Period', 'Unnamed: 0'])\n",
    "highestMortality = MortalityOverall.sort_values(by = 'Adult mortality rate', ascending = False)\n",
    "top5Mortality = highestMortality.head()\n",
    "top5Mortality"
   ]
  },
  {
   "cell_type": "markdown",
   "metadata": {},
   "source": [
    "The top 5 countries with the highest mortality rates are Zimbabwe, Lesotho, Eswatini, Central African Republic, and Sierra Leone."
   ]
  },
  {
   "cell_type": "code",
   "execution_count": 4,
   "metadata": {},
   "outputs": [
    {
     "name": "stdout",
     "output_type": "stream",
     "text": [
      "95% confidence interval for males: (8.460629419519146, 10.347147258058603)\n",
      "95% confidence interval for females: (2.2841349646336724, 2.8634505509146146)\n"
     ]
    }
   ],
   "source": [
    "from scipy import stats\n",
    "# Hypothesis test with mean alcohol consumption of the sexes\n",
    "## Alcohol\n",
    "### Male\n",
    "AlcoholM = Alcohol[Alcohol['Sex'] == \"Male\"]\n",
    "AlcoholM_By_Country = AlcoholM.groupby('Country').mean()\n",
    "AvgAlcoholM_By_Country = AlcoholM_By_Country['Alcohol total per capita (15+) consumption in liters (numeric)']\n",
    "AvgAlcoholM_By_Country.head()\n",
    "\n",
    "mu_M = np.mean(AvgAlcoholM_By_Country)\n",
    "sigma_M = np.std(AvgAlcoholM_By_Country)\n",
    "n_M = len(AvgAlcoholM_By_Country)\n",
    "\n",
    "alc_male_interval = stats.norm.interval(alpha = 0.95,\n",
    "                                    loc = mu_M,\n",
    "                                    scale = sigma_M / np.sqrt(n_M))\n",
    "print(\"95% confidence interval for males:\", alc_male_interval)\n",
    "\n",
    "### Female\n",
    "AlcoholF = Alcohol[Alcohol['Sex'] == \"Female\"]\n",
    "AlcoholF_By_Country = AlcoholF.groupby('Country').mean()\n",
    "AvgAlcoholF_By_Country = AlcoholF_By_Country['Alcohol total per capita (15+) consumption in liters (numeric)']\n",
    "\n",
    "\n",
    "mu_F = np.mean(AvgAlcoholF_By_Country)\n",
    "sigma_F = np.std(AvgAlcoholF_By_Country)\n",
    "n_F = len(AvgAlcoholF_By_Country)\n",
    "\n",
    "alc_female_interval = stats.norm.interval(alpha = 0.95,\n",
    "                                    loc = mu_F,\n",
    "                                    scale = sigma_F / np.sqrt(n_F))\n",
    "print(\"95% confidence interval for females:\", alc_female_interval)"
   ]
  },
  {
   "cell_type": "markdown",
   "metadata": {},
   "source": [
    "The 95% confidence interval for male average alcohol consumption does not overlap with that of females, so we can reject the null hypothesis that average female alcohol consumption is the same as that for males. Therefore, we conclude that there is a difference in alcohol consumption by sex."
   ]
  },
  {
   "cell_type": "code",
   "execution_count": 5,
   "metadata": {},
   "outputs": [
    {
     "name": "stdout",
     "output_type": "stream",
     "text": [
      "95% confidence interval for males: (223.42183111340358, 231.6780403105767)\n",
      "95% confidence interval for females: (155.03323802553788, 163.16327113550298)\n"
     ]
    }
   ],
   "source": [
    "## Male\n",
    "MortalityMale = MortalityM['Adult mortality rate']\n",
    "mu_m = np.mean(MortalityMale)\n",
    "sigma_m = np.std(MortalityMale)\n",
    "n_m = len(MortalityMale)\n",
    "\n",
    "mort_male_interval = stats.norm.interval(alpha = 0.95,\n",
    "                                    loc = mu_m,\n",
    "                                    scale = sigma_m / np.sqrt(n_m))\n",
    "print(\"95% confidence interval for males:\", mort_male_interval)\n",
    "\n",
    "## Female\n",
    "MortalityFemale = MortalityF['Adult mortality rate']\n",
    "mu_f = np.mean(MortalityFemale)\n",
    "sigma_f = np.std(MortalityFemale)\n",
    "n_f = len(MortalityFemale)\n",
    "\n",
    "mort_female_interval = stats.norm.interval(alpha = 0.95,\n",
    "                                    loc = mu_f,\n",
    "                                    scale = sigma_f / np.sqrt(n_f))\n",
    "print(\"95% confidence interval for females:\", mort_female_interval)"
   ]
  },
  {
   "cell_type": "markdown",
   "metadata": {},
   "source": [
    "The 95% confidence interval for male average mortality rate does not overlap with that of females, so we can reject the null hypothesis that average female mortality rate is the same as that for males. Therefore, we conclude that there is a difference in mortality rates by sex."
   ]
  },
  {
   "cell_type": "code",
   "execution_count": 6,
   "metadata": {},
   "outputs": [
    {
     "data": {
      "image/png": "[encoded data removed]",
      "text/plain": [
       "<Figure size 360x360 with 1 Axes>"
      ]
     },
     "metadata": {
      "needs_background": "light"
     },
     "output_type": "display_data"
    }
   ],
   "source": [
    "import seaborn as sns\n",
    "AlcoholByYear = AlcoholBoth.groupby('Year').mean()\n",
    "AlcoholGraph = sns.relplot(data = AlcoholByYear, x = \"Year\", \n",
    "            y = \"Alcohol total per capita (15+) consumption in liters (numeric)\", \n",
    "            kind = \"line\")"
   ]
  },
  {
   "cell_type": "markdown",
   "metadata": {},
   "source": [
    "It seems that average alcohol consumption increased significantly from 2000 to 2007 and has subsequently decreased. "
   ]
  },
  {
   "cell_type": "code",
   "execution_count": 7,
   "metadata": {},
   "outputs": [
    {
     "data": {
      "image/png": "[encoded data removed]",
      "text/plain": [
       "<Figure size 360x360 with 1 Axes>"
      ]
     },
     "metadata": {
      "needs_background": "light"
     },
     "output_type": "display_data"
    }
   ],
   "source": [
    "MortalityByYear = Mortality.groupby('Period').mean()\n",
    "MortalityByYear\n",
    "MortalityGraph = sns.relplot(data = MortalityByYear, x = \"Period\", \n",
    "            y = \"Adult mortality rate\", \n",
    "            kind = \"line\")"
   ]
  },
  {
   "cell_type": "markdown",
   "metadata": {},
   "source": [
    "It seems that mortality rate has steadily gone down since 2000. "
   ]
  },
  {
   "cell_type": "markdown",
   "metadata": {},
   "source": [
    "### Question 2"
   ]
  },
  {
   "cell_type": "code",
   "execution_count": 8,
   "metadata": {},
   "outputs": [
    {
     "name": "stdout",
     "output_type": "stream",
     "text": [
      "                                     Unnamed: 0  Period  Adult mortality rate\n",
      "Location                                                                     \n",
      "Afghanistan                         1566.411765  2008.0            266.335294\n",
      "Albania                             1496.882353  2008.0            101.574706\n",
      "Algeria                             1516.235294  2008.0            113.668824\n",
      "Angola                              1575.235294  2008.0            297.294118\n",
      "Antigua and Barbuda                 1495.117647  2008.0            140.858824\n",
      "...                                         ...     ...                   ...\n",
      "Venezuela (Bolivarian Republic of)  1517.647059  2008.0            166.700000\n",
      "Viet Nam                            1488.882353  2008.0            133.300000\n",
      "Yemen                               1556.235294  2008.0            239.388235\n",
      "Zambia                              1597.705882  2008.0            446.694118\n",
      "Zimbabwe                            1606.529412  2008.0            549.347059\n",
      "\n",
      "[183 rows x 3 columns]\n"
     ]
    }
   ],
   "source": [
    "byLocation = Mortality.groupby('Location').mean()\n",
    "print(byLocation)"
   ]
  },
  {
   "cell_type": "markdown",
   "metadata": {},
   "source": [
    "### Question 3\n"
   ]
  },
  {
   "cell_type": "code",
   "execution_count": null,
   "metadata": {},
   "outputs": [],
   "source": []
  },
  {
   "cell_type": "markdown",
   "metadata": {},
   "source": [
    "### Question 4"
   ]
  },
  {
   "cell_type": "code",
   "execution_count": null,
   "metadata": {},
   "outputs": [],
   "source": []
  }
 ],
 "metadata": {
  "kernelspec": {
   "display_name": "Python 3 (ipykernel)",
   "language": "python",
   "name": "python3"
  },
  "language_info": {
   "codemirror_mode": {
    "name": "ipython",
    "version": 3
   },
   "file_extension": ".py",
   "mimetype": "text/x-python",
   "name": "python",
   "nbconvert_exporter": "python",
   "pygments_lexer": "ipython3",
   "version": "3.9.7"
  }
 },
 "nbformat": 4,
 "nbformat_minor": 4
}
